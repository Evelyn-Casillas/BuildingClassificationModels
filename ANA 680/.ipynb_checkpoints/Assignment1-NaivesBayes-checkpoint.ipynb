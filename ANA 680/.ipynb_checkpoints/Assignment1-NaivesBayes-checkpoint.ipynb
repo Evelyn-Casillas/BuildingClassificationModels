{
 "cells": [
  {
   "cell_type": "code",
   "execution_count": null,
   "id": "f6be8b79-c18f-4143-b639-43d81afe01da",
   "metadata": {},
   "outputs": [],
   "source": [
    "import pandas as pd\n",
    "import numpy as np\n",
    "\n",
    "import matplotlib.pyplot as plt\n",
    "import seaborn as sns"
   ]
  },
  {
   "cell_type": "code",
   "execution_count": null,
   "id": "288ec6f7-8be6-4c0a-b921-0b5bfdae5df0",
   "metadata": {},
   "outputs": [],
   "source": [
    "pip install ucimlrepo"
   ]
  },
  {
   "cell_type": "code",
   "execution_count": null,
   "id": "e572116b-1572-4352-a1b1-ccfeb2945eb7",
   "metadata": {},
   "outputs": [],
   "source": [
    "from ucimlrepo import fetch_ucirepo \n",
    "  \n",
    "\n",
    "breast_cancer_wisconsin_original = fetch_ucirepo(id=15) \n",
    "  \n",
    "X = breast_cancer_wisconsin_original.data.features \n",
    "y = breast_cancer_wisconsin_original.data.targets \n",
    "  \n",
    "\n",
    "print(breast_cancer_wisconsin_original.metadata) \n",
    "  \n",
    "print(breast_cancer_wisconsin_original.variables) \n"
   ]
  },
  {
   "cell_type": "code",
   "execution_count": null,
   "id": "1e11e1f0-2092-49ef-a322-3cf6baa5ec9b",
   "metadata": {},
   "outputs": [],
   "source": [
    "print(X.shape)\n",
    "print(y.shape)\n",
    "\n"
   ]
  },
  {
   "cell_type": "code",
   "execution_count": null,
   "id": "a13ce403-2b27-4288-8cfa-5dc77345dbe6",
   "metadata": {},
   "outputs": [],
   "source": [
    "X.info()"
   ]
  },
  {
   "cell_type": "code",
   "execution_count": null,
   "id": "de061b1f-8b55-4c36-a9d7-babe7a593e94",
   "metadata": {},
   "outputs": [],
   "source": [
    "X.head(5)"
   ]
  },
  {
   "cell_type": "code",
   "execution_count": null,
   "id": "d3ebf94d-2b1d-46af-b759-9bfaa1f1b34b",
   "metadata": {},
   "outputs": [],
   "source": [
    "X.columns"
   ]
  },
  {
   "cell_type": "code",
   "execution_count": null,
   "id": "9018344d-418c-4533-a5ff-d4b0f2ee8b72",
   "metadata": {},
   "outputs": [],
   "source": [
    "X.select_dtypes(exclude=['object']).describe().round(decimals=2).transpose()"
   ]
  },
  {
   "cell_type": "code",
   "execution_count": null,
   "id": "abe03554-2a9a-4564-8e25-75f152de4a55",
   "metadata": {},
   "outputs": [],
   "source": [
    "X.describe()"
   ]
  },
  {
   "cell_type": "code",
   "execution_count": null,
   "id": "40ec19b9-f184-4a30-80c5-a00de691f3d4",
   "metadata": {},
   "outputs": [],
   "source": [
    "X.hist(bins=20, figsize=(15, 15))"
   ]
  },
  {
   "cell_type": "code",
   "execution_count": null,
   "id": "9b0917ca-4a5d-450b-a0c8-cb5ab387e0cd",
   "metadata": {},
   "outputs": [],
   "source": [
    "#replacing y with 0 and 1\n",
    "\n",
    "new_y =  y.replace({2: 0, 4: 1})\n",
    "\n",
    "print(new_y.head(20))\n",
    "\n",
    "print('Unique Values in y:', np.unique(new_y))"
   ]
  },
  {
   "cell_type": "code",
   "execution_count": null,
   "id": "60603008-fa6b-423b-88b4-d1efecef3bb0",
   "metadata": {},
   "outputs": [],
   "source": [
    "new_y.hist(bins=5, figsize=(5, 5))"
   ]
  },
  {
   "cell_type": "code",
   "execution_count": null,
   "id": "644cd918-c6c0-47ea-bfa2-83144c98ecc0",
   "metadata": {},
   "outputs": [],
   "source": [
    "#Missing Values\n",
    "\n",
    "print(X.isnull().sum().sort_values(ascending=False).to_string())"
   ]
  },
  {
   "cell_type": "code",
   "execution_count": null,
   "id": "37e5fef7-1595-40d4-af17-03be8a1edb9b",
   "metadata": {},
   "outputs": [],
   "source": [
    "#Removing Missing Values\n",
    "\n",
    "X_clean = X.dropna() \n",
    "y_clean = y.loc[X_clean.index]\n",
    "\n",
    "print(X_clean.isnull().sum())"
   ]
  },
  {
   "cell_type": "code",
   "execution_count": null,
   "id": "1eff0cd7-0446-44b1-9457-8235f482a474",
   "metadata": {},
   "outputs": [],
   "source": [
    "corr=X.corr()\n",
    "\n",
    "plt.figure(figsize=(10, 6))\n",
    "heatmap = sns.heatmap(corr, vmin=-1, vmax=1, cmap='BrBG')"
   ]
  },
  {
   "cell_type": "code",
   "execution_count": null,
   "id": "a15bd007-3419-4c3e-b86c-a92d11de22a2",
   "metadata": {},
   "outputs": [],
   "source": [
    "data_clean = X_clean.copy()\n",
    "data_clean[\"y\"] = y_clean \n",
    "corr_matrix = data_clean.corr()\n",
    "\n",
    "plt.figure(figsize=(12, 8))\n",
    "sns.heatmap(corr_matrix, annot=True, cmap=\"coolwarm\", fmt=\".2f\", linewidths=0.5)\n",
    "plt.title(\"Feature Correlation Heatmap (All Features)\")\n",
    "plt.show()"
   ]
  },
  {
   "cell_type": "code",
   "execution_count": null,
   "id": "5050b8de-2591-4145-aefe-7b107594c376",
   "metadata": {},
   "outputs": [],
   "source": [
    "#Splitting Data\n",
    "\n",
    "from sklearn.model_selection import train_test_split\n",
    "X_train, X_test, y_train, y_test = train_test_split(X_clean, y_clean, test_size=0.25, random_state=7)\n",
    "\n",
    "print('Shape of training data :',X_train.shape)\n",
    "print('Shape of testing data :',y_test.shape)"
   ]
  },
  {
   "cell_type": "code",
   "execution_count": null,
   "id": "a6211f31-27f3-426b-8dc6-a6d817ff1800",
   "metadata": {},
   "outputs": [],
   "source": [
    "#Naive Bayes\n",
    "\n",
    "from sklearn.naive_bayes import GaussianNB\n",
    "from sklearn.metrics import accuracy_score\n",
    "\n",
    "\n",
    "y_train = np.ravel(y_train)\n",
    "y_test = np.ravel(y_test)\n",
    "\n",
    "model = GaussianNB()\n",
    "model.fit(X_train,y_train)\n",
    "\n",
    "predict_train = model.predict(X_train)\n",
    "print('\\nTarget on train data:\\n',predict_train) \n",
    "\n",
    "accuracy_train = accuracy_score(y_train,predict_train)\n",
    "print('\\nAccuracy score on train dataset : ', accuracy_train)\n",
    "\n",
    "predict_test = model.predict(X_test)\n",
    "print('\\nTarget on test data:\\n',predict_test) \n",
    "\n",
    "accuracy_test = accuracy_score(y_test,predict_test)\n",
    "print('\\nAccuracy Score on test dataset : ', accuracy_test)"
   ]
  },
  {
   "cell_type": "code",
   "execution_count": null,
   "id": "f1414582-f182-4d6e-9657-f9926f7a1fd1",
   "metadata": {},
   "outputs": [],
   "source": [
    "#Confusion Matrix\n",
    "from sklearn.metrics import confusion_matrix\n",
    "\n",
    "y_pred = model.predict(X_test)\n",
    "\n",
    "cm = confusion_matrix(y_test, y_pred)\n",
    "\n",
    "print(cm)\n",
    "plt.figure(figsize=(6, 5))\n",
    "sns.heatmap(cm, annot=True, fmt='d', cmap=\"Blues\", xticklabels=[\"Class 0\", \"Class 1\"], yticklabels=[\"Class 0\", \"Class 1\"])\n",
    "plt.title(\"Confusion Matrix\")\n",
    "plt.xlabel(\"Predicted\")\n",
    "plt.ylabel(\"Actual\")\n",
    "plt.show()"
   ]
  },
  {
   "cell_type": "code",
   "execution_count": null,
   "id": "ddb50844-a4a0-4753-9727-3f2bc7f035f6",
   "metadata": {},
   "outputs": [],
   "source": [
    "import pickle\n",
    "\n",
    "# Save the trained model as a pickle file\n",
    "with open(\"naive_bayes_model.pkl\", \"wb\") as file:\n",
    "    pickle.dump(model, file)\n",
    "\n",
    "print(\"\\nModel saved as naive_bayes_model.pkl!\")"
   ]
  }
 ],
 "metadata": {
  "kernelspec": {
   "display_name": "Python 3 (ipykernel)",
   "language": "python",
   "name": "python3"
  },
  "language_info": {
   "codemirror_mode": {
    "name": "ipython",
    "version": 3
   },
   "file_extension": ".py",
   "mimetype": "text/x-python",
   "name": "python",
   "nbconvert_exporter": "python",
   "pygments_lexer": "ipython3",
   "version": "3.12.4"
  }
 },
 "nbformat": 4,
 "nbformat_minor": 5
}
